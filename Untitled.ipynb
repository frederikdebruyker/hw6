{
 "cells": [
  {
   "cell_type": "code",
   "execution_count": 13,
   "metadata": {},
   "outputs": [
    {
     "name": "stdout",
     "output_type": "stream",
     "text": [
      "<Response [200]>\n",
      "{'query': 'tamoxifen', 'suggestions': ['Tamoxifen citrate']}\n",
      "<Response [200]>\n",
      "['0.1MG', '0.25MG', '0.5MG', '1MG', '25MG;15MG;0.1MG', '25MG;0.125MG', '50MG;0.125MG']\n",
      "<Response [200]>\n",
      "['Hydralazine hydrochloride; hydrochlorothiazide; reserpine', 'Hydrochlorothiazide; reserpine', 'Hydroflumethiazide; reserpine', 'Reserpine']\n"
     ]
    }
   ],
   "source": [
    "# mapi-us.iterar.co/api/autocomplete?query=res\n",
    "import pandas as pd\n",
    "import numpy as np\n",
    "import requests\n",
    "import time\n",
    "import json\n",
    "import pprint\n",
    "\n",
    "pp = pprint.PrettyPrinter(indent=4)\n",
    "\n",
    "query_url = \"http://mapi-us.iterar.co/api/autocomplete?query=tamoxifen\"\n",
    "query_response = requests.get(query_url)\n",
    "print(query_response)\n",
    "query_json = query_response.json()\n",
    "print(query_json)\n",
    "query_url = \"http://mapi-us.iterar.co/api/reserpine/doses.json\"\n",
    "query_response = requests.get(query_url)\n",
    "print(query_response)\n",
    "query_json = query_response.json()\n",
    "print(query_json)\n",
    "\n",
    "query_url = \"http://mapi-us.iterar.co/api/reserpine/substances.json\"\n",
    "query_response = requests.get(query_url)\n",
    "print(query_response)\n",
    "query_json = query_response.json()\n",
    "print(query_json)"
   ]
  },
  {
   "cell_type": "code",
   "execution_count": null,
   "metadata": {},
   "outputs": [],
   "source": []
  }
 ],
 "metadata": {
  "kernelspec": {
   "display_name": "Python 3",
   "language": "python",
   "name": "python3"
  },
  "language_info": {
   "codemirror_mode": {
    "name": "ipython",
    "version": 3
   },
   "file_extension": ".py",
   "mimetype": "text/x-python",
   "name": "python",
   "nbconvert_exporter": "python",
   "pygments_lexer": "ipython3",
   "version": "3.7.1"
  }
 },
 "nbformat": 4,
 "nbformat_minor": 2
}
