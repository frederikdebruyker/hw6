{
 "cells": [
  {
   "cell_type": "markdown",
   "metadata": {},
   "source": [
    "# WeatherPy\n",
    "----\n",
    "\n",
    "### Analysis\n",
    "* As expected, the weather becomes significantly warmer as one approaches the equator (0 Deg. Latitude). More interestingly, however, is the fact that the southern hemisphere tends to be warmer this time of year than the northern hemisphere. This may be due to the tilt of the earth.\n",
    "* There is no strong relationship between latitude and cloudiness. However, it is interesting to see that a strong band of cities sits at 0, 80, and 100% cloudiness.\n",
    "* There is no strong relationship between latitude and wind speed. However, in northern hemispheres there is a flurry of cities with over 20 mph of wind.\n",
    "\n",
    "---\n",
    "\n",
    "#### Note\n",
    "* Instructions have been included for each segment. You do not have to follow them exactly, but they are included to help you think through the steps."
   ]
  },
  {
   "cell_type": "code",
   "execution_count": 24,
   "metadata": {
    "scrolled": true
   },
   "outputs": [],
   "source": [
    "# Dependencies and Setup\n",
    "import matplotlib.pyplot as plt\n",
    "import pandas as pd\n",
    "import numpy as np\n",
    "import requests\n",
    "import time\n",
    "import json\n",
    "import pprint\n",
    "import datetime\n",
    "# import pytemperature\n",
    "# not a standard library: pip install pytemperature\n",
    "\n",
    "# Import API key\n",
    "from api_keys import api_key\n",
    "\n",
    "# Incorporated citipy to determine city based on latitude and longitude\n",
    "# not a standard library: pip install citipy\n",
    "from citipy import citipy\n",
    "\n",
    "# Output File (CSV)\n",
    "output_data_file = \"output_data/cities.csv\"\n",
    "\n",
    "# Range of latitudes and longitudes\n",
    "lat_range = (-90, 90)\n",
    "lng_range = (-180, 180)\n",
    "\n",
    "# now\n",
    "now = datetime.datetime.now()"
   ]
  },
  {
   "cell_type": "markdown",
   "metadata": {},
   "source": [
    "## Generate Cities List"
   ]
  },
  {
   "cell_type": "code",
   "execution_count": null,
   "metadata": {},
   "outputs": [
    {
     "data": {
      "text/plain": [
       "596"
      ]
     },
     "execution_count": 25,
     "metadata": {},
     "output_type": "execute_result"
    }
   ],
   "source": [
    "# List for holding lat_lngs and cities\n",
    "lat_lngs = []\n",
    "cities = []\n",
    "\n",
    "# Create a set of random lat and lng combinations\n",
    "lats = np.random.uniform(low=-90.000, high=90.000, size=1500)\n",
    "lngs = np.random.uniform(low=-180.000, high=180.000, size=1500)\n",
    "lat_lngs = zip(lats, lngs)\n",
    "\n",
    "# Identify nearest city for each lat, lng combination\n",
    "for lat_lng in lat_lngs:\n",
    "    city = citipy.nearest_city(lat_lng[0], lat_lng[1]).city_name\n",
    "    \n",
    "    # If the city is unique, then add it to a our cities list\n",
    "    if city not in cities:\n",
    "        cities.append(city)\n",
    "\n",
    "# Print the city count to confirm sufficient count\n",
    "len(cities)"
   ]
  },
  {
   "cell_type": "markdown",
   "metadata": {},
   "source": [
    "### Perform API Calls\n",
    "* Perform a weather check on each city using a series of successive API calls.\n",
    "* Include a print log of each city as it'sbeing processed (with the city number and city name).\n"
   ]
  },
  {
   "cell_type": "code",
   "execution_count": null,
   "metadata": {},
   "outputs": [
    {
     "name": "stdout",
     "output_type": "stream",
     "text": [
      "\u001b[4mBeginning Data Retrieval\u001b[0m\n",
      "Processing Record 1 of Set 1 | provideniya\n",
      "Processing Record 2 of Set 1 | punta arenas\n",
      "Processing Record 3 of Set 1 | hilo\n",
      "Processing Record 4 of Set 1 | carutapera\n",
      "Processing Record 5 of Set 1 | port alfred\n",
      "Processing Record 6 of Set 1 | jamestown\n",
      "Processing Record 7 of Set 1 | bredasdorp\n",
      "Processing Record 8 of Set 1 | san isidro\n",
      "Processing Record 9 of Set 1 | barrow\n",
      "Processing Record 10 of Set 1 | quartz hill\n",
      "Processing Record 11 of Set 1 | mataura\n",
      "Processing Record 12 of Set 1 | ilulissat\n",
      "Processing Record 13 of Set 1 | chuy\n",
      "Processing Record 14 of Set 1 | vaini\n",
      "Processing Record 15 of Set 1 | kawalu\n",
      "Processing Record 16 of Set 1 | dillon\n",
      "Processing Record 17 of Set 1 | louisbourg\n",
      "City not found. Skipping...\n",
      "Processing Record 18 of Set 1 | tawang\n",
      "Processing Record 19 of Set 1 | kapaa\n",
      "Processing Record 20 of Set 1 | butaritari\n",
      "Processing Record 21 of Set 1 | noumea\n",
      "Processing Record 22 of Set 1 | rikitea\n",
      "Processing Record 23 of Set 1 | nipawin\n",
      "Processing Record 24 of Set 1 | akyab\n",
      "City not found. Skipping...\n",
      "Processing Record 25 of Set 1 | vila\n",
      "Processing Record 26 of Set 1 | sidi ali\n",
      "Processing Record 27 of Set 1 | lebu\n",
      "Processing Record 28 of Set 1 | cabo san lucas\n",
      "Processing Record 29 of Set 1 | albufeira\n",
      "Processing Record 30 of Set 1 | ponta do sol\n",
      "Processing Record 31 of Set 1 | thompson\n",
      "Processing Record 32 of Set 1 | sault sainte marie\n",
      "Processing Record 33 of Set 1 | olafsvik\n",
      "City not found. Skipping...\n",
      "Processing Record 34 of Set 1 | cherskiy\n",
      "Processing Record 35 of Set 1 | wichita falls\n",
      "Processing Record 36 of Set 1 | arraial do cabo\n",
      "Processing Record 37 of Set 1 | henties bay\n",
      "Processing Record 38 of Set 1 | tuktoyaktuk\n",
      "Processing Record 39 of Set 1 | bluff\n",
      "Processing Record 40 of Set 1 | belyy yar\n",
      "Processing Record 41 of Set 1 | zhangjiakou\n",
      "Processing Record 42 of Set 1 | busselton\n",
      "Processing Record 43 of Set 1 | upernavik\n",
      "Processing Record 44 of Set 1 | jaten\n",
      "Processing Record 45 of Set 1 | albany\n",
      "Processing Record 46 of Set 1 | luena\n",
      "Processing Record 47 of Set 1 | road town\n",
      "Processing Record 48 of Set 1 | baracoa\n",
      "Processing Record 49 of Set 1 | gravdal\n",
      "Processing Record 50 of Set 1 | sebrovo\n",
      "Processing Record 51 of Set 1 | hermanus\n",
      "Processing Record 52 of Set 1 | grand gaube\n",
      "Processing Record 53 of Set 1 | marsh harbour\n",
      "Processing Record 54 of Set 1 | cascais\n",
      "Processing Record 55 of Set 1 | mar del plata\n",
      "Processing Record 56 of Set 1 | ostrovnoy\n",
      "Processing Record 57 of Set 1 | bethel\n",
      "Processing Record 58 of Set 1 | kulu\n",
      "Processing Record 59 of Set 1 | esperance\n",
      "Processing Record 60 of Set 1 | mys shmidta\n",
      "City not found. Skipping...\n",
      "Processing Record 61 of Set 1 | belushya guba\n",
      "City not found. Skipping...\n",
      "Processing Record 62 of Set 1 | dhidhdhoo\n",
      "Processing Record 63 of Set 1 | geraldton\n",
      "Processing Record 64 of Set 1 | kovdor\n",
      "Processing Record 65 of Set 1 | necochea\n",
      "Processing Record 66 of Set 1 | muzhi\n",
      "Processing Record 67 of Set 1 | abha\n",
      "Processing Record 68 of Set 1 | sunnyvale\n",
      "Processing Record 69 of Set 1 | strezhevoy\n",
      "Processing Record 70 of Set 1 | georgetown\n",
      "Processing Record 71 of Set 1 | inyonga\n",
      "Processing Record 72 of Set 1 | east london\n",
      "Processing Record 73 of Set 1 | illoqqortoormiut\n",
      "City not found. Skipping...\n",
      "Processing Record 74 of Set 1 | nome\n",
      "Processing Record 75 of Set 1 | ushuaia\n",
      "Processing Record 76 of Set 1 | atuona\n",
      "Processing Record 77 of Set 1 | luderitz\n",
      "Processing Record 78 of Set 1 | leh\n",
      "Processing Record 79 of Set 1 | handan\n",
      "Processing Record 80 of Set 1 | dikson\n",
      "Processing Record 81 of Set 1 | bilibino\n",
      "Processing Record 82 of Set 1 | skagastrond\n",
      "City not found. Skipping...\n",
      "Processing Record 83 of Set 1 | komatipoort\n",
      "Processing Record 84 of Set 1 | avarua\n",
      "Processing Record 85 of Set 1 | guarda\n",
      "Processing Record 86 of Set 1 | pozega\n",
      "Processing Record 87 of Set 1 | sabha\n",
      "Processing Record 88 of Set 1 | lucapa\n",
      "Processing Record 89 of Set 1 | bathsheba\n",
      "Processing Record 90 of Set 1 | kodiak\n",
      "Processing Record 91 of Set 1 | clyde river\n",
      "Processing Record 92 of Set 1 | port hardy\n",
      "Processing Record 93 of Set 1 | ilheus\n",
      "Processing Record 94 of Set 1 | hasaki\n",
      "Processing Record 95 of Set 1 | amapa\n",
      "Processing Record 96 of Set 1 | tsihombe\n",
      "City not found. Skipping...\n",
      "Processing Record 97 of Set 1 | kamenskoye\n",
      "City not found. Skipping...\n",
      "Processing Record 98 of Set 1 | new norfolk\n",
      "Processing Record 99 of Set 1 | villazon\n",
      "City not found. Skipping...\n",
      "Processing Record 100 of Set 1 | unterageri\n",
      "Processing Record 101 of Set 1 | nikolskoye\n",
      "Processing Record 102 of Set 1 | constitucion\n",
      "Processing Record 103 of Set 1 | komsomolskiy\n",
      "Processing Record 104 of Set 1 | catamarca\n",
      "City not found. Skipping...\n",
      "Processing Record 105 of Set 1 | cape town\n",
      "Processing Record 106 of Set 1 | yar-sale\n",
      "Processing Record 107 of Set 1 | nemuro\n",
      "Processing Record 108 of Set 1 | yellowknife\n",
      "Processing Record 109 of Set 1 | pemba\n",
      "Processing Record 110 of Set 1 | madang\n",
      "Processing Record 111 of Set 1 | codrington\n",
      "Processing Record 112 of Set 1 | folldal\n",
      "Processing Record 113 of Set 1 | hobart\n",
      "Processing Record 114 of Set 1 | novopskov\n",
      "Processing Record 115 of Set 1 | lasa\n",
      "Processing Record 116 of Set 1 | leningradskiy\n",
      "Processing Record 117 of Set 1 | da nang\n",
      "City not found. Skipping...\n",
      "Processing Record 118 of Set 1 | sarahan\n",
      "Processing Record 119 of Set 1 | mimongo\n",
      "Processing Record 120 of Set 1 | sao joao da barra\n",
      "Processing Record 121 of Set 1 | fortuna\n",
      "Processing Record 122 of Set 1 | vestmanna\n",
      "Processing Record 123 of Set 1 | rolim de moura\n",
      "City not found. Skipping...\n",
      "Processing Record 124 of Set 1 | kruisfontein\n",
      "Processing Record 125 of Set 1 | vaitupu\n",
      "City not found. Skipping...\n",
      "Processing Record 126 of Set 1 | kuche\n",
      "City not found. Skipping...\n",
      "Processing Record 127 of Set 1 | yekaterinovka\n",
      "Processing Record 128 of Set 1 | seydi\n",
      "Processing Record 129 of Set 1 | mendoza\n",
      "Processing Record 130 of Set 1 | bengkulu\n",
      "City not found. Skipping...\n",
      "Processing Record 131 of Set 1 | nanortalik\n",
      "Processing Record 132 of Set 1 | taolanaro\n",
      "City not found. Skipping...\n",
      "Processing Record 133 of Set 1 | coquimbo\n",
      "Processing Record 134 of Set 1 | mbandaka\n",
      "Processing Record 135 of Set 1 | ribeira grande\n",
      "Processing Record 136 of Set 1 | broome\n",
      "Processing Record 137 of Set 1 | kununurra\n",
      "Processing Record 138 of Set 1 | kakonko\n",
      "Processing Record 139 of Set 1 | trinidad\n",
      "Processing Record 140 of Set 1 | czersk\n",
      "Processing Record 141 of Set 1 | tautira\n",
      "Processing Record 142 of Set 1 | vila velha\n",
      "Processing Record 143 of Set 1 | tuatapere\n",
      "Processing Record 144 of Set 1 | adrar\n",
      "Processing Record 145 of Set 1 | saint-philippe\n",
      "Processing Record 146 of Set 1 | saskylakh\n",
      "Processing Record 147 of Set 1 | ratnagiri\n",
      "Processing Record 148 of Set 1 | chokurdakh\n",
      "Processing Record 149 of Set 1 | castro\n",
      "Processing Record 150 of Set 1 | souillac\n",
      "Processing Record 151 of Set 1 | jijiga\n",
      "Processing Record 152 of Set 1 | felanitx\n",
      "Processing Record 153 of Set 1 | broken hill\n",
      "Processing Record 154 of Set 1 | hamilton\n",
      "Processing Record 155 of Set 1 | acurenam\n",
      "Processing Record 156 of Set 1 | gzhatsk\n",
      "City not found. Skipping...\n",
      "Processing Record 157 of Set 1 | sentyabrskiy\n",
      "City not found. Skipping...\n",
      "Processing Record 158 of Set 1 | san carlos\n",
      "Processing Record 159 of Set 1 | apatzingan\n",
      "City not found. Skipping...\n",
      "Processing Record 160 of Set 1 | cockburn town\n",
      "Processing Record 161 of Set 1 | hit\n",
      "Processing Record 162 of Set 1 | tateyama\n",
      "Processing Record 163 of Set 1 | puerto ayora\n",
      "Processing Record 164 of Set 1 | carnarvon\n",
      "Processing Record 165 of Set 1 | tumannyy\n",
      "City not found. Skipping...\n",
      "Processing Record 166 of Set 1 | urumqi\n",
      "City not found. Skipping...\n",
      "Processing Record 167 of Set 1 | marquette\n",
      "Processing Record 168 of Set 1 | vila franca do campo\n"
     ]
    }
   ],
   "source": [
    "# API used: https://openweathermap.org/api\n",
    "\n",
    "# by coordinates: api.openweathermap.org/data/2.5/weather?lat=35&lon=139\n",
    "# by city name: api.openweathermap.org/data/2.5/weather?q=London\n",
    "\n",
    "# Save config information\n",
    "url = \"http://api.openweathermap.org/data/2.5/weather?\"\n",
    "\n",
    "# variables\n",
    "City = []\n",
    "Cloudiness = []\n",
    "Country = []\n",
    "Date = []\n",
    "Humidity = []\n",
    "Lat = []\n",
    "Lng = []\n",
    "Max_Temp = []\n",
    "Wind_Speed = []\n",
    "\n",
    "count = 1\n",
    "\n",
    "# query_url = url + \"appid=\" + api_key + \"&q=\" + city #to do\n",
    "generic_weather_url = url + \"appid=\" + api_key +'&units=imperial' + \"&q=\"\n",
    "pp = pprint.PrettyPrinter(indent=4)\n",
    "\n",
    "# functionality\n",
    "print(f'\\033[4m' 'Beginning Data Retrieval' '\\033[0m') # status update while processing\n",
    "for count, city in enumerate(cities, start=1):\n",
    "#     Build query URL \n",
    "    query_url = generic_weather_url + city\n",
    "#     Get weather data\n",
    "    print(f'Processing Record {count} of Set 1 | {city}')\n",
    "    weather_response = requests.get(query_url)\n",
    "    weather_json = weather_response.json()\n",
    "    if weather_json['cod'] != 200:\n",
    "        print(f'City not found. Skipping...')\n",
    "    else: #include in our dataset\n",
    "#         pp.pprint(weather_json)\n",
    "        humidity = float(weather_json['main']['humidity'])\n",
    "        if humidity <= 100:  #humidity can not be above 100 percent\n",
    "            City.append(weather_json['name'])\n",
    "            Cloudiness.append(weather_json['clouds']['all'])\n",
    "            Country.append(weather_json['sys']['country'])\n",
    "            Date.append(weather_json['dt'])\n",
    "            Humidity.append(weather_json['main']['humidity'])\n",
    "            Lat.append(weather_json['coord']['lat'])\n",
    "            Lng.append(weather_json['coord']['lon'])\n",
    "#             Max_Temp.append(pytemperature.k2f(weather_json['main']['temp_max']))\n",
    "            Max_Temp.append(weather_json['main']['temp_max'])\n",
    "            Wind_Speed.append(weather_json['wind']['speed'])     "
   ]
  },
  {
   "cell_type": "code",
   "execution_count": null,
   "metadata": {},
   "outputs": [],
   "source": [
    "# build the dataframe\n",
    "city_weather_dict = {\n",
    "    'City':          City,\n",
    "    'Cloudiness':    Cloudiness,\n",
    "    'Country':       Country,\n",
    "    'Date':          Date,\n",
    "    'Humidity':      Humidity,\n",
    "    'Lat':           Lat,\n",
    "    'Lng':           Lng,\n",
    "    'Max Temp':      Max_Temp,\n",
    "    'Wind Speed':    Wind_Speed    \n",
    "}\n",
    "city_weather_data = pd.DataFrame(city_weather_dict)"
   ]
  },
  {
   "cell_type": "markdown",
   "metadata": {},
   "source": [
    "### Convert Raw Data to DataFrame\n",
    "* Export the city data into a .csv.\n",
    "* Display the DataFrame"
   ]
  },
  {
   "cell_type": "code",
   "execution_count": null,
   "metadata": {},
   "outputs": [],
   "source": [
    "city_weather_data.to_csv('WeatherPy.csv',index=False)\n",
    "city_weather_data.info()"
   ]
  },
  {
   "cell_type": "code",
   "execution_count": null,
   "metadata": {},
   "outputs": [],
   "source": [
    "city_weather_data.head()"
   ]
  },
  {
   "cell_type": "markdown",
   "metadata": {},
   "source": [
    "### Plotting the Data\n",
    "* Use proper labeling of the plots using plot titles (including date of analysis) and axes labels.\n",
    "* Save the plotted figures as .pngs."
   ]
  },
  {
   "cell_type": "markdown",
   "metadata": {},
   "source": [
    "#### Latitude vs. Temperature Plot"
   ]
  },
  {
   "cell_type": "code",
   "execution_count": null,
   "metadata": {},
   "outputs": [],
   "source": [
    "def generic_plot(ax_x,ax_y):\n",
    "#     Build a scatter plot \n",
    "    plt.scatter(city_weather_data[ax_x], city_weather_data[ax_y], marker=\"o\",edgecolors='black')\n",
    "    x_label='Latitude'\n",
    "    if ax_y == 'Max Temp':\n",
    "        y_label = 'Max Temperature (F)'\n",
    "        plot_title = 'City Latitude vs. Max Temperature'\n",
    "    elif ax_y == 'Humidity':\n",
    "        y_label= 'Humidity (%)'\n",
    "        plot_title = 'City Latitude vs. Humidity'\n",
    "    elif ax_y == 'Cloudiness':\n",
    "        y_label= 'Cloudiness (%)'\n",
    "        plot_title = 'City Latitude vs. Cloudiness'\n",
    "    elif ax_y == 'Wind Speed':\n",
    "        y_label= 'Wind Speed (mph)'\n",
    "        plot_title = 'City Latitude vs. Cloudiness'\n",
    "    else:\n",
    "        y_label= 'N/A'\n",
    "        plot_title = 'N/A'\n",
    "   \n",
    "    today=now.strftime(\"%m/%d/%Y\")\n",
    "    plot_title=plot_title+ ' ('+today+')'\n",
    "    # Incorporate the other graph properties\n",
    "    plt.title(plot_title)\n",
    "    plt.ylabel(y_label)\n",
    "    plt.xlabel(x_label)\n",
    "    plt.grid(True)\n",
    "    \n",
    "    # Save Figure\n",
    "    fig_title = (f'{plot_title}.png')\n",
    "    plt.savefig('pyber ride sharing data.png')\n",
    "    \n",
    "    # Show plot\n",
    "    plt.show()"
   ]
  },
  {
   "cell_type": "code",
   "execution_count": null,
   "metadata": {},
   "outputs": [],
   "source": [
    "generic_plot('Lat','Max Temp')"
   ]
  },
  {
   "cell_type": "markdown",
   "metadata": {},
   "source": [
    "#### Latitude vs. Humidity Plot"
   ]
  },
  {
   "cell_type": "code",
   "execution_count": null,
   "metadata": {},
   "outputs": [],
   "source": [
    "generic_plot('Lat','Humidity')"
   ]
  },
  {
   "cell_type": "markdown",
   "metadata": {},
   "source": [
    "#### Latitude vs. Cloudiness Plot"
   ]
  },
  {
   "cell_type": "code",
   "execution_count": null,
   "metadata": {},
   "outputs": [],
   "source": [
    "generic_plot('Lat','Cloudiness')"
   ]
  },
  {
   "cell_type": "markdown",
   "metadata": {},
   "source": [
    "#### Latitude vs. Wind Speed Plot"
   ]
  },
  {
   "cell_type": "code",
   "execution_count": null,
   "metadata": {},
   "outputs": [],
   "source": [
    "generic_plot('Lat','Wind Speed')"
   ]
  },
  {
   "cell_type": "code",
   "execution_count": null,
   "metadata": {},
   "outputs": [],
   "source": []
  }
 ],
 "metadata": {
  "anaconda-cloud": {},
  "kernel_info": {
   "name": "python3"
  },
  "kernelspec": {
   "display_name": "Python 3",
   "language": "python",
   "name": "python3"
  },
  "language_info": {
   "codemirror_mode": {
    "name": "ipython",
    "version": 3
   },
   "file_extension": ".py",
   "mimetype": "text/x-python",
   "name": "python",
   "nbconvert_exporter": "python",
   "pygments_lexer": "ipython3",
   "version": "3.7.1"
  },
  "nteract": {
   "version": "0.12.3"
  }
 },
 "nbformat": 4,
 "nbformat_minor": 2
}
